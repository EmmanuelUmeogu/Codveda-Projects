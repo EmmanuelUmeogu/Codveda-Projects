{
 "cells": [
  {
   "cell_type": "markdown",
   "id": "8953d096-c3c4-46f7-911b-0ef6f9c772ce",
   "metadata": {},
   "source": [
    "## Step 1: Import Libraries"
   ]
  },
  {
   "cell_type": "code",
   "execution_count": 1,
   "id": "3c143ff9-7b07-42d2-a46a-b190932750e0",
   "metadata": {},
   "outputs": [],
   "source": [
    "\n",
    "import pandas as pd\n",
    "import numpy as np\n",
    "import matplotlib.pyplot as plt\n",
    "import seaborn as sns\n",
    "\n",
    "import nltk\n",
    "from nltk.corpus import stopwords\n",
    "from nltk.stem import PorterStemmer\n",
    "from nltk.tokenize import word_tokenize\n",
    "\n",
    "from sklearn.feature_extraction.text import TfidfVectorizer\n",
    "from sklearn.model_selection import train_test_split\n",
    "from sklearn.naive_bayes import MultinomialNB\n",
    "from sklearn.linear_model import LogisticRegression\n",
    "from sklearn.metrics import classification_report, confusion_matrix, ConfusionMatrixDisplay"
   ]
  },
  {
   "cell_type": "code",
   "execution_count": 5,
   "id": "7becef67-1600-4301-96d1-da596800c8d7",
   "metadata": {},
   "outputs": [
    {
     "name": "stderr",
     "output_type": "stream",
     "text": [
      "[nltk_data] Downloading package punkt to\n",
      "[nltk_data]     C:\\Users\\hp\\AppData\\Roaming\\nltk_data...\n",
      "[nltk_data]   Package punkt is already up-to-date!\n",
      "[nltk_data] Downloading package stopwords to\n",
      "[nltk_data]     C:\\Users\\hp\\AppData\\Roaming\\nltk_data...\n",
      "[nltk_data]   Package stopwords is already up-to-date!\n"
     ]
    }
   ],
   "source": [
    "\n",
    "import nltk\n",
    "nltk.download(\"punkt\")\n",
    "nltk.download(\"stopwords\")\n",
    "\n",
    "nltk.data.path.append(r\"C:\\Users\\hp\\AppData\\Roaming\\nltk_data\")\n"
   ]
  },
  {
   "cell_type": "markdown",
   "id": "ce6b7ce2-2d17-4b11-95cd-6e5a3d1e3492",
   "metadata": {},
   "source": [
    "## Step 2: Load Dataset (SMS Spam Collection from UCI repo)"
   ]
  },
  {
   "cell_type": "code",
   "execution_count": 6,
   "id": "d1661f70-893e-494e-b41a-963c464ee455",
   "metadata": {},
   "outputs": [
    {
     "name": "stdout",
     "output_type": "stream",
     "text": [
      "  label                                            message\n",
      "0   ham  Go until jurong point, crazy.. Available only ...\n",
      "1   ham                      Ok lar... Joking wif u oni...\n",
      "2  spam  Free entry in 2 a wkly comp to win FA Cup fina...\n",
      "3   ham  U dun say so early hor... U c already then say...\n",
      "4   ham  Nah I don't think he goes to usf, he lives aro...\n"
     ]
    }
   ],
   "source": [
    "\n",
    "url = \"https://raw.githubusercontent.com/justmarkham/DAT8/master/data/sms.tsv\"\n",
    "df = pd.read_csv(url, sep=\"\\t\", header=None, names=[\"label\", \"message\"])\n",
    "\n",
    "df.to_csv(r\"C:\\Users\\hp\\Codveda Projects\\Task 8 Natural Language Processing - Text Classification\\Data\\SMS Spam Collection Dataset.csv\")\n",
    "\n",
    "print(df.head())"
   ]
  },
  {
   "cell_type": "markdown",
   "id": "47b2bb23-a52d-4ca5-b9b7-e48cfcd09cd4",
   "metadata": {},
   "source": [
    "## Step 3: Preprocessing Function"
   ]
  },
  {
   "cell_type": "code",
   "execution_count": 9,
   "id": "5e2e8c7c-d095-4e53-8fc5-9043b4eaf939",
   "metadata": {},
   "outputs": [
    {
     "name": "stderr",
     "output_type": "stream",
     "text": [
      "[nltk_data] Downloading package punkt to\n",
      "[nltk_data]     C:\\Users\\hp\\AppData\\Roaming\\nltk_data...\n",
      "[nltk_data]   Package punkt is already up-to-date!\n",
      "[nltk_data] Downloading package stopwords to\n",
      "[nltk_data]     C:\\Users\\hp\\AppData\\Roaming\\nltk_data...\n",
      "[nltk_data]   Package stopwords is already up-to-date!\n"
     ]
    },
    {
     "data": {
      "text/plain": [
       "True"
      ]
     },
     "execution_count": 9,
     "metadata": {},
     "output_type": "execute_result"
    }
   ],
   "source": [
    "nltk.download(\"punkt\", download_dir=r\"C:\\Users\\hp\\AppData\\Roaming\\nltk_data\")\n",
    "nltk.download(\"stopwords\", download_dir=r\"C:\\Users\\hp\\AppData\\Roaming\\nltk_data\")\n"
   ]
  },
  {
   "cell_type": "code",
   "execution_count": 11,
   "id": "3f7ff8ab-96e7-4299-8b04-0205a24bd47a",
   "metadata": {},
   "outputs": [
    {
     "name": "stderr",
     "output_type": "stream",
     "text": [
      "[nltk_data] Downloading package punkt to\n",
      "[nltk_data]     C:\\Users\\hp\\AppData\\Roaming\\nltk_data...\n",
      "[nltk_data]   Package punkt is already up-to-date!\n",
      "[nltk_data] Downloading package punkt_tab to\n",
      "[nltk_data]     C:\\Users\\hp\\AppData\\Roaming\\nltk_data...\n",
      "[nltk_data]   Unzipping tokenizers\\punkt_tab.zip.\n",
      "[nltk_data] Downloading package stopwords to\n",
      "[nltk_data]     C:\\Users\\hp\\AppData\\Roaming\\nltk_data...\n",
      "[nltk_data]   Package stopwords is already up-to-date!\n"
     ]
    },
    {
     "data": {
      "text/plain": [
       "True"
      ]
     },
     "execution_count": 11,
     "metadata": {},
     "output_type": "execute_result"
    }
   ],
   "source": [
    "import nltk\n",
    "nltk.download(\"punkt\")\n",
    "nltk.download(\"punkt_tab\")   # <-- add this line\n",
    "nltk.download(\"stopwords\")\n"
   ]
  },
  {
   "cell_type": "code",
   "execution_count": 12,
   "id": "dad085d4-0e19-4920-879b-d78908e103dd",
   "metadata": {},
   "outputs": [
    {
     "name": "stdout",
     "output_type": "stream",
     "text": [
      "\n",
      "Sample Cleaned Text:\n",
      "                                             message  \\\n",
      "0  Go until jurong point, crazy.. Available only ...   \n",
      "1                      Ok lar... Joking wif u oni...   \n",
      "2  Free entry in 2 a wkly comp to win FA Cup fina...   \n",
      "3  U dun say so early hor... U c already then say...   \n",
      "4  Nah I don't think he goes to usf, he lives aro...   \n",
      "\n",
      "                                       clean_message  \n",
      "0  go jurong point crazi avail bugi n great world...  \n",
      "1                              ok lar joke wif u oni  \n",
      "2  free entri wkli comp win fa cup final tkt may ...  \n",
      "3                u dun say earli hor u c alreadi say  \n",
      "4               nah think goe usf live around though  \n"
     ]
    }
   ],
   "source": [
    "import nltk\n",
    "nltk.data.path.append(r\"C:\\Users\\hp\\AppData\\Roaming\\nltk_data\")\n",
    "\n",
    "def preprocess_text(text):\n",
    "    tokens = word_tokenize(text.lower())  # lowercase + tokenize\n",
    "    tokens = [t for t in tokens if t.isalpha()]  # keep only words\n",
    "    tokens = [t for t in tokens if t not in stopwords.words(\"english\")]  # remove stopwords\n",
    "    stemmer = PorterStemmer()\n",
    "    tokens = [stemmer.stem(t) for t in tokens]  # stemming\n",
    "    return \" \".join(tokens)\n",
    "\n",
    "df[\"clean_message\"] = df[\"message\"].apply(preprocess_text)\n",
    "\n",
    "print(\"\\nSample Cleaned Text:\")\n",
    "print(df[[\"message\", \"clean_message\"]].head())\n",
    "\n",
    "df[[\"clean_message\"]].to_csv(\n",
    "    r\"C:\\Users\\hp\\Codveda Projects\\Task 8 Natural Language Processing - Text Classification\\cleaned data\\cleaned_messages.csv\",\n",
    "    index=False\n",
    ")\n"
   ]
  },
  {
   "cell_type": "markdown",
   "id": "8db7b721-3e9f-4815-b3ea-a04e3d9333ec",
   "metadata": {},
   "source": [
    "## Step 4: Convert Text to Numerical Representation (TF-IDF)"
   ]
  },
  {
   "cell_type": "code",
   "execution_count": 14,
   "id": "f2b0981d-0371-4e4a-b009-eccd509c55b6",
   "metadata": {},
   "outputs": [],
   "source": [
    "\n",
    "vectorizer = TfidfVectorizer()\n",
    "X = vectorizer.fit_transform(df[\"clean_message\"])\n",
    "y = df[\"label\"]"
   ]
  },
  {
   "cell_type": "markdown",
   "id": "e1c8159c-3c88-420f-b358-9be7a4f96162",
   "metadata": {},
   "source": [
    "## Step 5: Train-Test Split"
   ]
  },
  {
   "cell_type": "code",
   "execution_count": 15,
   "id": "6937bcf8-2677-4284-9955-04ba5faea46d",
   "metadata": {},
   "outputs": [],
   "source": [
    "\n",
    "X_train, X_test, y_train, y_test = train_test_split(X, y, test_size=0.2, random_state=42)"
   ]
  },
  {
   "cell_type": "markdown",
   "id": "e9e508c5-7472-419c-b1ae-2ee8f521a48e",
   "metadata": {},
   "source": [
    "## Step 6: Train Models\n",
    "\n",
    "### Naive Bayes"
   ]
  },
  {
   "cell_type": "code",
   "execution_count": 16,
   "id": "48f7dea8-d6f0-4b33-a03f-3fae2b2978c2",
   "metadata": {},
   "outputs": [],
   "source": [
    "\n",
    "nb = MultinomialNB()\n",
    "nb.fit(X_train, y_train)\n",
    "y_pred_nb = nb.predict(X_test)"
   ]
  },
  {
   "cell_type": "markdown",
   "id": "01f4dc1d-ede2-4f00-b232-d0e8d519110e",
   "metadata": {},
   "source": [
    "### Logistic Regression"
   ]
  },
  {
   "cell_type": "code",
   "execution_count": 18,
   "id": "37ac8d0d-662b-4480-af77-c4e9724c60bf",
   "metadata": {},
   "outputs": [],
   "source": [
    "\n",
    "\n",
    "log_reg = LogisticRegression(max_iter=1000)\n",
    "log_reg.fit(X_train, y_train)\n",
    "y_pred_lr = log_reg.predict(X_test)"
   ]
  },
  {
   "cell_type": "markdown",
   "id": "a10af923-e4c8-48db-abc4-64ec6b88891b",
   "metadata": {},
   "source": [
    "## Step 7: Evaluate Models"
   ]
  },
  {
   "cell_type": "code",
   "execution_count": 19,
   "id": "ef8c603b-6d3d-42aa-a8c3-623e3d0da9a0",
   "metadata": {},
   "outputs": [
    {
     "name": "stdout",
     "output_type": "stream",
     "text": [
      "📊 Naive Bayes Classification Report\n",
      "              precision    recall  f1-score   support\n",
      "\n",
      "         ham       0.96      1.00      0.98       966\n",
      "        spam       0.98      0.75      0.85       149\n",
      "\n",
      "    accuracy                           0.97      1115\n",
      "   macro avg       0.97      0.87      0.92      1115\n",
      "weighted avg       0.97      0.97      0.96      1115\n",
      "\n",
      "📊 Logistic Regression Classification Report\n",
      "              precision    recall  f1-score   support\n",
      "\n",
      "         ham       0.96      1.00      0.98       966\n",
      "        spam       0.99      0.73      0.84       149\n",
      "\n",
      "    accuracy                           0.96      1115\n",
      "   macro avg       0.98      0.87      0.91      1115\n",
      "weighted avg       0.96      0.96      0.96      1115\n",
      "\n"
     ]
    }
   ],
   "source": [
    "\n",
    "print(\"📊 Naive Bayes Classification Report\")\n",
    "print(classification_report(y_test, y_pred_nb))\n",
    "\n",
    "print(\"📊 Logistic Regression Classification Report\")\n",
    "print(classification_report(y_test, y_pred_lr))"
   ]
  },
  {
   "cell_type": "markdown",
   "id": "c297da24-8608-4530-862d-a39393f57375",
   "metadata": {},
   "source": [
    "## Step 8: Confusion Matrices"
   ]
  },
  {
   "cell_type": "code",
   "execution_count": 21,
   "id": "81675c8d-4d60-49ec-ad46-f7251ee76ae1",
   "metadata": {},
   "outputs": [
    {
     "data": {
      "image/png": "[encoded data removed]",
      "text/plain": [
       "<Figure size 1200x500 with 4 Axes>"
      ]
     },
     "metadata": {},
     "output_type": "display_data"
    }
   ],
   "source": [
    "\n",
    "fig, axes = plt.subplots(1, 2, figsize=(12,5))\n",
    "\n",
    "ConfusionMatrixDisplay.from_estimator(nb, X_test, y_test, ax=axes[0], cmap=\"Blues\")\n",
    "axes[0].set_title(\"Naive Bayes Confusion Matrix\")\n",
    "\n",
    "ConfusionMatrixDisplay.from_estimator(log_reg, X_test, y_test, ax=axes[1], cmap=\"Greens\")\n",
    "axes[1].set_title(\"Logistic Regression Confusion Matrix\")\n",
    "\n",
    "plt.savefig(r\"C:\\Users\\hp\\Codveda Projects\\Task 8 Natural Language Processing - Text Classification\\Visuals\\Naive Bayes & Logistic Regression Confusion Matrix.png\", dpi=300, bbox_inches='tight')\n",
    "plt.show()"
   ]
  },
  {
   "cell_type": "markdown",
   "id": "d1fa1b4c-5644-43f0-aa7f-40777f9823e4",
   "metadata": {},
   "source": [
    "# Workflow Summary\n",
    "\n",
    "- Dataset: SMS Spam Collection (spam vs ham).\n",
    "\n",
    "- Preprocessing: tokenization → stopword removal → stemming → join back.\n",
    "\n",
    "- Vectorization: TF-IDF.\n",
    "\n",
    "Models:\n",
    "\n",
    "- Naive Bayes\n",
    "\n",
    "- Logistic Regression\n",
    "\n",
    "Evaluation: Precision, Recall, F1-score + Confusion Matrices."
   ]
  },
  {
   "cell_type": "code",
   "execution_count": null,
   "id": "27530784-b4a7-4934-b1d9-aa0c7c0beb8a",
   "metadata": {},
   "outputs": [],
   "source": []
  }
 ],
 "metadata": {
  "kernelspec": {
   "display_name": "Python 3 (ipykernel)",
   "language": "python",
   "name": "python3"
  },
  "language_info": {
   "codemirror_mode": {
    "name": "ipython",
    "version": 3
   },
   "file_extension": ".py",
   "mimetype": "text/x-python",
   "name": "python",
   "nbconvert_exporter": "python",
   "pygments_lexer": "ipython3",
   "version": "3.13.5"
  }
 },
 "nbformat": 4,
 "nbformat_minor": 5
}
