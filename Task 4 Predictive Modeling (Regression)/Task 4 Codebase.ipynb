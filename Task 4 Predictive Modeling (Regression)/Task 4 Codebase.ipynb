{
 "cells": [
  {
   "cell_type": "markdown",
   "id": "cea3b156-fd97-42ef-9582-2141af5c737e",
   "metadata": {},
   "source": [
    "### Step 1:Import Libraries"
   ]
  },
  {
   "cell_type": "code",
   "execution_count": 9,
   "id": "fffe0807-be06-49a9-aee0-2806f3deba40",
   "metadata": {},
   "outputs": [],
   "source": [
    "import pandas as pd\n",
    "import numpy as np\n",
    "from sklearn.model_selection import train_test_split\n",
    "from sklearn.linear_model import LinearRegression\n",
    "from sklearn.tree import DecisionTreeRegressor\n",
    "from sklearn.ensemble import RandomForestRegressor\n",
    "from sklearn.metrics import mean_squared_error, r2_score\n",
    "import matplotlib.pyplot as plt\n",
    "import seaborn as sns\n"
   ]
  },
  {
   "cell_type": "markdown",
   "id": "b2a12b1f-d8ab-41f4-9adf-1466e72c9795",
   "metadata": {},
   "source": [
    "### Step 2: Load Dataset"
   ]
  },
  {
   "cell_type": "code",
   "execution_count": 25,
   "id": "509e10f0-aa81-45d9-9034-b30b3e46ed0d",
   "metadata": {},
   "outputs": [
    {
     "name": "stdout",
     "output_type": "stream",
     "text": [
      "   MedInc  HouseAge  AveRooms  AveBedrms  Population  AveOccup  Latitude  \\\n",
      "0  8.3252      41.0  6.984127   1.023810       322.0  2.555556     37.88   \n",
      "1  8.3014      21.0  6.238137   0.971880      2401.0  2.109842     37.86   \n",
      "2  7.2574      52.0  8.288136   1.073446       496.0  2.802260     37.85   \n",
      "3  5.6431      52.0  5.817352   1.073059       558.0  2.547945     37.85   \n",
      "4  3.8462      52.0  6.281853   1.081081       565.0  2.181467     37.85   \n",
      "\n",
      "   Longitude  MedHouseVal  \n",
      "0    -122.23        4.526  \n",
      "1    -122.22        3.585  \n",
      "2    -122.24        3.521  \n",
      "3    -122.25        3.413  \n",
      "4    -122.25        3.422  \n"
     ]
    }
   ],
   "source": [
    "# Example: Boston housing dataset\n",
    "from sklearn.datasets import fetch_california_housing\n",
    "data = fetch_california_housing(as_frame=True)\n",
    "# Save to a CSV file\n",
    "df.to_csv(r\"C:\\Users\\hp\\Codveda Projects\\Task 4  Predictive Modeling (Regression)\\Data\\california_housing.csv\", index=False)\n",
    "\n",
    "df = data.frame\n",
    "print(df.head())\n"
   ]
  },
  {
   "cell_type": "markdown",
   "id": "69cad7ef-7586-4e0b-ace9-b57ee8fd0433",
   "metadata": {},
   "source": []
  },
  {
   "cell_type": "markdown",
   "id": "67640aa3-54d4-4b40-b750-af3c1c8442d1",
   "metadata": {},
   "source": [
    "### Step 3: Define Features and Target"
   ]
  },
  {
   "cell_type": "code",
   "execution_count": 15,
   "id": "437b5830-89db-4f79-8495-aae8a4a7dbb3",
   "metadata": {},
   "outputs": [],
   "source": [
    "X = df.drop(\"MedHouseVal\", axis=1)   # Features\n",
    "y = df[\"MedHouseVal\"]               # Target variable\n"
   ]
  },
  {
   "cell_type": "markdown",
   "id": "b8b9cfcc-41f9-4cac-8a7b-1ef81b59d0c2",
   "metadata": {},
   "source": [
    "### Step 4: Train-Test Split"
   ]
  },
  {
   "cell_type": "code",
   "execution_count": 18,
   "id": "d3bc87e8-e9a7-4020-8dc2-09e847726415",
   "metadata": {},
   "outputs": [],
   "source": [
    "X_train, X_test, y_train, y_test = train_test_split(\n",
    "    X, y, test_size=0.2, random_state=42\n",
    ")\n"
   ]
  },
  {
   "cell_type": "markdown",
   "id": "c2434103-aa45-43ee-8b09-a2a71aff88c6",
   "metadata": {},
   "source": [
    "### Step 5: Train and Evaluate Linear Regression"
   ]
  },
  {
   "cell_type": "code",
   "execution_count": 19,
   "id": "6e45d6ed-8c32-478d-baa9-60e9e10c9ab2",
   "metadata": {},
   "outputs": [
    {
     "name": "stdout",
     "output_type": "stream",
     "text": [
      "Linear Regression Results:\n",
      "Mean Squared Error: 0.5559\n",
      "R-squared: 0.5758\n"
     ]
    }
   ],
   "source": [
    "lin_reg = LinearRegression()\n",
    "lin_reg.fit(X_train, y_train)\n",
    "\n",
    "y_pred_lr = lin_reg.predict(X_test)\n",
    "\n",
    "mse_lr = mean_squared_error(y_test, y_pred_lr)\n",
    "r2_lr = r2_score(y_test, y_pred_lr)\n",
    "\n",
    "print(\"Linear Regression Results:\")\n",
    "print(f\"Mean Squared Error: {mse_lr:.4f}\")\n",
    "print(f\"R-squared: {r2_lr:.4f}\")\n"
   ]
  },
  {
   "cell_type": "markdown",
   "id": "b77998c3-6865-4c0f-ad1e-3cb942a2464f",
   "metadata": {},
   "source": [
    "### Step 6: Train and Evaluate Decision Tree"
   ]
  },
  {
   "cell_type": "code",
   "execution_count": 20,
   "id": "5fe517ea-49a1-49f4-bb80-cdec2475f79d",
   "metadata": {},
   "outputs": [
    {
     "name": "stdout",
     "output_type": "stream",
     "text": [
      "\n",
      "Decision Tree Results:\n",
      "Mean Squared Error: 0.4952\n",
      "R-squared: 0.6221\n"
     ]
    }
   ],
   "source": [
    "tree_reg = DecisionTreeRegressor(random_state=42)\n",
    "tree_reg.fit(X_train, y_train)\n",
    "\n",
    "y_pred_tree = tree_reg.predict(X_test)\n",
    "\n",
    "mse_tree = mean_squared_error(y_test, y_pred_tree)\n",
    "r2_tree = r2_score(y_test, y_pred_tree)\n",
    "\n",
    "print(\"\\nDecision Tree Results:\")\n",
    "print(f\"Mean Squared Error: {mse_tree:.4f}\")\n",
    "print(f\"R-squared: {r2_tree:.4f}\")\n"
   ]
  },
  {
   "cell_type": "markdown",
   "id": "3b400759-a2d2-444a-9533-48676a8d6294",
   "metadata": {},
   "source": [
    "### Step 7: Train and Evaluate Random Forest"
   ]
  },
  {
   "cell_type": "code",
   "execution_count": 21,
   "id": "c0b99b6a-dff4-4832-94d6-68416714af53",
   "metadata": {},
   "outputs": [
    {
     "name": "stdout",
     "output_type": "stream",
     "text": [
      "\n",
      "Random Forest Results:\n",
      "Mean Squared Error: 0.2554\n",
      "R-squared: 0.8051\n"
     ]
    }
   ],
   "source": [
    "rf_reg = RandomForestRegressor(n_estimators=100, random_state=42)\n",
    "rf_reg.fit(X_train, y_train)\n",
    "\n",
    "y_pred_rf = rf_reg.predict(X_test)\n",
    "\n",
    "mse_rf = mean_squared_error(y_test, y_pred_rf)\n",
    "r2_rf = r2_score(y_test, y_pred_rf)\n",
    "\n",
    "print(\"\\nRandom Forest Results:\")\n",
    "print(f\"Mean Squared Error: {mse_rf:.4f}\")\n",
    "print(f\"R-squared: {r2_rf:.4f}\")\n"
   ]
  },
  {
   "cell_type": "markdown",
   "id": "cdc593eb-b98d-44da-b0c3-a0641a266305",
   "metadata": {},
   "source": [
    "### Step 8: Compare Model Performance"
   ]
  },
  {
   "cell_type": "code",
   "execution_count": 23,
   "id": "764b6cf0-82cb-4ffd-a0c9-bd8ca4e642c9",
   "metadata": {},
   "outputs": [
    {
     "name": "stdout",
     "output_type": "stream",
     "text": [
      "\n",
      "Model Comparison:\n",
      "               Model       MSE  R-squared\n",
      "0  Linear Regression  0.555892   0.575788\n",
      "1      Decision Tree  0.495235   0.622076\n",
      "2      Random Forest  0.255368   0.805123\n"
     ]
    },
    {
     "data": {
      "image/png": "[encoded data removed]",
      "text/plain": [
       "<Figure size 640x480 with 1 Axes>"
      ]
     },
     "metadata": {},
     "output_type": "display_data"
    }
   ],
   "source": [
    "results = pd.DataFrame({\n",
    "    \"Model\": [\"Linear Regression\", \"Decision Tree\", \"Random Forest\"],\n",
    "    \"MSE\": [mse_lr, mse_tree, mse_rf],\n",
    "    \"R-squared\": [r2_lr, r2_tree, r2_rf]\n",
    "})\n",
    "\n",
    "print(\"\\nModel Comparison:\")\n",
    "print(results)\n",
    "\n",
    "sns.barplot(x=\"Model\", y=\"R-squared\", data=results)\n",
    "plt.title(\"Model Performance Comparison\")\n",
    "plt.savefig(r\"C:\\Users\\hp\\Codveda Projects\\Task 4  Predictive Modeling (Regression)\\Visuals\\Model Performance Comparison.png\") \n",
    "plt.show()"
   ]
  },
  {
   "cell_type": "code",
   "execution_count": null,
   "id": "31cd3cea-fe54-4904-85ce-657906b0c764",
   "metadata": {},
   "outputs": [],
   "source": []
  }
 ],
 "metadata": {
  "kernelspec": {
   "display_name": "Python 3 (ipykernel)",
   "language": "python",
   "name": "python3"
  },
  "language_info": {
   "codemirror_mode": {
    "name": "ipython",
    "version": 3
   },
   "file_extension": ".py",
   "mimetype": "text/x-python",
   "name": "python",
   "nbconvert_exporter": "python",
   "pygments_lexer": "ipython3",
   "version": "3.13.5"
  }
 },
 "nbformat": 4,
 "nbformat_minor": 5
}
